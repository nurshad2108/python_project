{
 "cells": [
  {
   "cell_type": "code",
   "execution_count": 1,
   "id": "792d3461",
   "metadata": {},
   "outputs": [],
   "source": [
    "import os\n",
    "import pandas as pd"
   ]
  },
  {
   "cell_type": "code",
   "execution_count": 2,
   "id": "5f2fbec3",
   "metadata": {},
   "outputs": [],
   "source": [
    "# Use current folder as input folder\n",
    "input_folder = \".\"\n",
    "output_folder = \"./merged_datasets\"  # Folder to save merged dataset\n",
    "output_file = os.path.join(output_folder, \"merged_filtered_dataset.csv\")  # Change to .xlsx if needed"
   ]
  },
  {
   "cell_type": "code",
   "execution_count": 3,
   "id": "bdce9fef",
   "metadata": {},
   "outputs": [],
   "source": [
    "# Ensure output folder exists\n",
    "os.makedirs(output_folder, exist_ok=True)"
   ]
  },
  {
   "cell_type": "code",
   "execution_count": 4,
   "id": "ae8065e2",
   "metadata": {},
   "outputs": [],
   "source": [
    "# Columns to keep\n",
    "columns_to_keep = [\"Seller Name\", \"Offline Shop\", \"Trade Licence\", \"Owner Name\", \"Seller Email Address\", \"Seller Phone Number\", \"Seller Address\", \"Category\", \"Product Drop Off Station\"]\n"
   ]
  },
  {
   "cell_type": "code",
   "execution_count": 5,
   "id": "d15a748b",
   "metadata": {},
   "outputs": [],
   "source": [
    "# List to store filtered DataFrames\n",
    "filtered_dataframes = []"
   ]
  },
  {
   "cell_type": "code",
   "execution_count": 6,
   "id": "46bf0496",
   "metadata": {},
   "outputs": [],
   "source": [
    "# Process each file in the folder\n",
    "for file in os.listdir(input_folder):\n",
    "    if file.endswith(\".csv\") or file.endswith(\".xlsx\"):  # Process CSV & Excel files\n",
    "        file_path = os.path.join(input_folder, file)\n",
    "        \n",
    "        # Read the dataset\n",
    "        if file.endswith(\".csv\"):\n",
    "            df = pd.read_csv(file_path)\n",
    "        else:\n",
    "            df = pd.read_excel(file_path)\n",
    "\n",
    "        # Keep only the specified columns\n",
    "        df_filtered = df[[col for col in columns_to_keep if col in df.columns]]\n",
    "\n",
    "        # Append to the list\n",
    "        filtered_dataframes.append(df_filtered)\n",
    "\n",
    "        print(f\"Processed: {file}\")"
   ]
  },
  {
   "cell_type": "code",
   "execution_count": 7,
   "id": "640d146d",
   "metadata": {},
   "outputs": [
    {
     "name": "stdout",
     "output_type": "stream",
     "text": [
      "No valid datasets found.\n"
     ]
    }
   ],
   "source": [
    "# Merge all DataFrames\n",
    "if filtered_dataframes:\n",
    "    merged_df = pd.concat(filtered_dataframes, ignore_index=True)\n",
    "    \n",
    "    # Save the merged dataset\n",
    "    if output_file.endswith(\".csv\"):\n",
    "        merged_df.to_csv(output_file, index=False)\n",
    "    else:\n",
    "        merged_df.to_excel(output_file, index=False)\n",
    "\n",
    "    print(f\"All datasets merged and saved in: {output_folder}/merged_filtered_dataset.csv\")\n",
    "else:\n",
    "    print(\"No valid datasets found.\")"
   ]
  },
  {
   "cell_type": "code",
   "execution_count": 8,
   "id": "2ca90db3",
   "metadata": {},
   "outputs": [
    {
     "name": "stdout",
     "output_type": "stream",
     "text": [
      "Merged dataset not found.\n"
     ]
    }
   ],
   "source": [
    "# Categorization Process\n",
    "# Read the merged dataset\n",
    "if os.path.exists(output_file):\n",
    "    df = pd.read_csv(output_file)\n",
    "    column_name = \"Seller Address\"\n",
    "\n",
    "    # Ensure the \"Seller Address\" column exists\n",
    "    if column_name not in df.columns:\n",
    "        raise KeyError(f\"The dataset does not contain a {column_name} column.\")\n",
    "\n",
    "    # Define location categories with associated keywords (all lowercase for case-insensitive matching)\n",
    "    location_categories = [\n",
    "        (\"agrabad\", [\"agrabad\", \"boropol\"]),\n",
    "        (\"oxygen\", [\"oxygen\"]),\n",
    "        (\"pahartali\", [\"pahartali\"]),\n",
    "        (\"panchlaish\", [\"panchlaish\"]),\n",
    "        (\"halishahar\", [\"halishahar\"]),\n",
    "        (\"gec\", [\"gec\", \"khulshi\"]),\n",
    "        (\"chandgaon\", [\"chandgaon\"]),\n",
    "        (\"kotwali\", [\"kotwali\"]),\n",
    "        (\"patenga\", [\"patenga\"]),\n",
    "        (\"bayazid\", [\"bayazid\"]),\n",
    "        (\"bakalia\", [\"bakalia\"]),\n",
    "        (\"chawkbazar\", [\"chawkbazar\"]),\n",
    "        (\"double_mooring\", [\"double mooring\"])\n",
    "    ]\n",
    "\n",
    "    # Create a dictionary to collect rows for each location category\n",
    "    categorized_data = {category: [] for category, _ in location_categories}\n",
    "    categorized_data[\"uncategorized\"] = []  # for rows that don't match any category\n",
    "\n",
    "    # Process each row using only the \"Seller Address\" column\n",
    "    for idx, row in df.iterrows():\n",
    "        seller_address = str(row[column_name]).lower()  # Convert the seller address to lowercase\n",
    "        matched = False\n",
    "        for category, keywords in location_categories:\n",
    "            if any(keyword in seller_address for keyword in keywords):\n",
    "                categorized_data[category].append(row)\n",
    "                matched = True\n",
    "                break  # Stop after the first matching category\n",
    "        if not matched:\n",
    "            categorized_data[\"uncategorized\"].append(row)\n",
    "\n",
    "    # Create an output folder for categorized files\n",
    "    categorized_output_folder = \"categorized_output\"\n",
    "    os.makedirs(categorized_output_folder, exist_ok=True)\n",
    "\n",
    "    # Save each category's data into separate CSV files\n",
    "    for category, rows in categorized_data.items():\n",
    "        if rows:  # Only save if there is data for the category\n",
    "            df_category = pd.DataFrame(rows)\n",
    "            output_path = os.path.join(categorized_output_folder, f\"{category}.csv\")\n",
    "            df_category.to_csv(output_path, index=False)\n",
    "            print(f\"Saved {len(rows)} rows to {output_path}\")\n",
    "\n",
    "    print(\"Categorization complete.\")\n",
    "else:\n",
    "    print(\"Merged dataset not found.\")"
   ]
  },
  {
   "cell_type": "code",
   "execution_count": null,
   "id": "1a0e9866",
   "metadata": {},
   "outputs": [],
   "source": []
  }
 ],
 "metadata": {
  "kernelspec": {
   "display_name": "Python 3 (ipykernel)",
   "language": "python",
   "name": "python3"
  },
  "language_info": {
   "codemirror_mode": {
    "name": "ipython",
    "version": 3
   },
   "file_extension": ".py",
   "mimetype": "text/x-python",
   "name": "python",
   "nbconvert_exporter": "python",
   "pygments_lexer": "ipython3",
   "version": "3.9.13"
  }
 },
 "nbformat": 4,
 "nbformat_minor": 5
}
